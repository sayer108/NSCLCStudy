{
 "cells": [
  {
   "cell_type": "code",
   "execution_count": 1,
   "metadata": {
    "collapsed": false,
    "jupyter": {
     "outputs_hidden": false
    },
    "pycharm": {
     "name": "#%%\n"
    }
   },
   "outputs": [],
   "source": [
    "import os\n",
    "\n",
    "import warnings\n",
    "warnings.filterwarnings('ignore') # suppress future warnings of conflict between pandas and xgboost\n",
    "\n",
    "import numpy as np\n",
    "import pandas as pd\n",
    "import matplotlib.pyplot as plt\n",
    "%matplotlib inline\n",
    "\n",
    "# import models\n",
    "from sklearn.linear_model import LogisticRegression\n",
    "import xgboost as xgb\n",
    "import lightgbm as lgb\n",
    "from catboost import CatBoostClassifier\n",
    "\n",
    "# import cv\n",
    "from sklearn.model_selection import StratifiedKFold\n",
    "from sklearn.model_selection import cross_val_score\n",
    "from sklearn.model_selection import RandomizedSearchCV, GridSearchCV\n",
    "from sklearn.preprocessing import StandardScaler\n",
    "from sklearn.pipeline import Pipeline\n",
    "from sklearn.metrics import roc_curve, precision_recall_curve, auc, f1_score\n",
    "\n",
    "# import shap\n",
    "import shap\n",
    "\n",
    "from lifelines.statistics import logrank_test\n",
    "from lifelines import KaplanMeierFitter\n",
    "from lifelines.utils import concordance_index\n",
    "\n",
    "from scipy.stats import uniform as sp_uniform\n",
    "from scipy.stats import randint as sp_randint"
   ]
  },
  {
   "cell_type": "markdown",
   "metadata": {
    "pycharm": {
     "name": "#%% md\n"
    }
   },
   "source": [
    "# Configure parameter setting\n",
    "1. Users are required to setup path to the cleaned data set.\\"
   ]
  },
  {
   "cell_type": "code",
   "execution_count": 2,
   "metadata": {
    "collapsed": false,
    "jupyter": {
     "outputs_hidden": false
    },
    "pycharm": {
     "name": "#%%\n"
    }
   },
   "outputs": [],
   "source": [
    "ROOT = os.getcwd()\n",
    "\n",
    "# setup input parameters for modeling\n",
    "params = {}\n",
    "params['input file name'] = os.path.join(ROOT + '/irae_combined_cleaned.csv')"
   ]
  },
  {
   "cell_type": "markdown",
   "metadata": {},
   "source": [
    "# Define Machine Learning Parameters"
   ]
  },
  {
   "cell_type": "code",
   "execution_count": 3,
   "metadata": {
    "collapsed": false,
    "jupyter": {
     "outputs_hidden": false
    },
    "pycharm": {
     "name": "#%%\n"
    }
   },
   "outputs": [],
   "source": [
    "# define cross-validation (cv) parameters\n",
    "params['seed'] = 0\n",
    "params['cv_fold'] = 10\n",
    "params['eval_metric'] = 'roc_auc'\n",
    "params['n_jobs'] = -1"
   ]
  },
  {
   "cell_type": "markdown",
   "metadata": {
    "pycharm": {
     "name": "#%% md\n"
    }
   },
   "source": [
    "# Define Function For Displaying Formatted P-Value"
   ]
  },
  {
   "cell_type": "code",
   "execution_count": 4,
   "metadata": {
    "collapsed": false,
    "jupyter": {
     "outputs_hidden": false
    },
    "pycharm": {
     "name": "#%%\n"
    }
   },
   "outputs": [],
   "source": [
    "def latex_p(p):\n",
    "    if p < 0.001:\n",
    "        output = str('(p<$\\mathregular{10^{%1.0f}}$)' % (0.5 + np.log10(p)))\n",
    "    elif p < 0.01:\n",
    "        output = str('(p<0.01)')\n",
    "    elif p < 0.05:\n",
    "        output = str('(p<0.05)')\n",
    "    else:\n",
    "        output = str('(p=%0.2f)' % p)\n",
    "    return output"
   ]
  },
  {
   "cell_type": "markdown",
   "metadata": {
    "pycharm": {
     "name": "#%% md\n"
    }
   },
   "source": [
    "# Import Data and Select Features"
   ]
  },
  {
   "cell_type": "code",
   "execution_count": 5,
   "metadata": {
    "collapsed": false,
    "jupyter": {
     "outputs_hidden": false
    },
    "pycharm": {
     "name": "#%%\n"
    }
   },
   "outputs": [],
   "source": [
    "# read data from input file\n",
    "input_data = pd.read_csv(params['input file name'])"
   ]
  },
  {
   "cell_type": "code",
   "execution_count": 6,
   "metadata": {
    "collapsed": false,
    "jupyter": {
     "outputs_hidden": false
    },
    "pycharm": {
     "name": "#%%\n"
    }
   },
   "outputs": [
    {
     "data": {
      "text/html": [
       "<div>\n",
       "<style scoped>\n",
       "    .dataframe tbody tr th:only-of-type {\n",
       "        vertical-align: middle;\n",
       "    }\n",
       "\n",
       "    .dataframe tbody tr th {\n",
       "        vertical-align: top;\n",
       "    }\n",
       "\n",
       "    .dataframe thead th {\n",
       "        text-align: right;\n",
       "    }\n",
       "</style>\n",
       "<table border=\"1\" class=\"dataframe\">\n",
       "  <thead>\n",
       "    <tr style=\"text-align: right;\">\n",
       "      <th></th>\n",
       "      <th>Sex</th>\n",
       "      <th>Race</th>\n",
       "      <th>Age_at_diagnosis</th>\n",
       "      <th>Histology</th>\n",
       "      <th>Stage</th>\n",
       "      <th>Smoking</th>\n",
       "      <th>Immunotherapy_Class</th>\n",
       "      <th>TKI+</th>\n",
       "      <th>PD_L1_Range</th>\n",
       "      <th>Time_to_irAE</th>\n",
       "      <th>...</th>\n",
       "      <th>irAE_early</th>\n",
       "      <th>irAE_late</th>\n",
       "      <th>irAE_category_IRAE</th>\n",
       "      <th>EGFR</th>\n",
       "      <th>KRAS</th>\n",
       "      <th>ALK</th>\n",
       "      <th>ROS1</th>\n",
       "      <th>BRAF</th>\n",
       "      <th>MET</th>\n",
       "      <th>RET</th>\n",
       "    </tr>\n",
       "  </thead>\n",
       "  <tbody>\n",
       "    <tr>\n",
       "      <th>0</th>\n",
       "      <td>Female</td>\n",
       "      <td>NaN</td>\n",
       "      <td>65</td>\n",
       "      <td>adenocarcinoma</td>\n",
       "      <td>4.0</td>\n",
       "      <td>non-smoker</td>\n",
       "      <td>anti-pd-1</td>\n",
       "      <td>0</td>\n",
       "      <td>NaN</td>\n",
       "      <td>NaN</td>\n",
       "      <td>...</td>\n",
       "      <td>0</td>\n",
       "      <td>0</td>\n",
       "      <td>0</td>\n",
       "      <td>0</td>\n",
       "      <td>0</td>\n",
       "      <td>0</td>\n",
       "      <td>0</td>\n",
       "      <td>0</td>\n",
       "      <td>0</td>\n",
       "      <td>0</td>\n",
       "    </tr>\n",
       "    <tr>\n",
       "      <th>1</th>\n",
       "      <td>Male</td>\n",
       "      <td>White</td>\n",
       "      <td>85</td>\n",
       "      <td>adenocarcinoma</td>\n",
       "      <td>4.0</td>\n",
       "      <td>smoker</td>\n",
       "      <td>anti-pd-l1</td>\n",
       "      <td>0</td>\n",
       "      <td>NaN</td>\n",
       "      <td>1.0</td>\n",
       "      <td>...</td>\n",
       "      <td>1</td>\n",
       "      <td>0</td>\n",
       "      <td>1</td>\n",
       "      <td>0</td>\n",
       "      <td>1</td>\n",
       "      <td>0</td>\n",
       "      <td>0</td>\n",
       "      <td>0</td>\n",
       "      <td>0</td>\n",
       "      <td>0</td>\n",
       "    </tr>\n",
       "    <tr>\n",
       "      <th>2</th>\n",
       "      <td>Male</td>\n",
       "      <td>Asian</td>\n",
       "      <td>61</td>\n",
       "      <td>adenocarcinoma</td>\n",
       "      <td>4.0</td>\n",
       "      <td>smoker</td>\n",
       "      <td>anti-pd-1</td>\n",
       "      <td>0</td>\n",
       "      <td>&gt;=50%</td>\n",
       "      <td>62.0</td>\n",
       "      <td>...</td>\n",
       "      <td>1</td>\n",
       "      <td>0</td>\n",
       "      <td>1</td>\n",
       "      <td>0</td>\n",
       "      <td>1</td>\n",
       "      <td>0</td>\n",
       "      <td>0</td>\n",
       "      <td>0</td>\n",
       "      <td>0</td>\n",
       "      <td>0</td>\n",
       "    </tr>\n",
       "    <tr>\n",
       "      <th>3</th>\n",
       "      <td>Female</td>\n",
       "      <td>Black or African American</td>\n",
       "      <td>66</td>\n",
       "      <td>other</td>\n",
       "      <td>4.0</td>\n",
       "      <td>smoker</td>\n",
       "      <td>anti-pd-l1</td>\n",
       "      <td>0</td>\n",
       "      <td>1-49%</td>\n",
       "      <td>NaN</td>\n",
       "      <td>...</td>\n",
       "      <td>0</td>\n",
       "      <td>0</td>\n",
       "      <td>0</td>\n",
       "      <td>0</td>\n",
       "      <td>0</td>\n",
       "      <td>1</td>\n",
       "      <td>0</td>\n",
       "      <td>0</td>\n",
       "      <td>0</td>\n",
       "      <td>0</td>\n",
       "    </tr>\n",
       "    <tr>\n",
       "      <th>4</th>\n",
       "      <td>Male</td>\n",
       "      <td>NaN</td>\n",
       "      <td>63</td>\n",
       "      <td>adenocarcinoma</td>\n",
       "      <td>4.0</td>\n",
       "      <td>smoker</td>\n",
       "      <td>anti-pd-1</td>\n",
       "      <td>0</td>\n",
       "      <td>&gt;=50%</td>\n",
       "      <td>167.0</td>\n",
       "      <td>...</td>\n",
       "      <td>0</td>\n",
       "      <td>1</td>\n",
       "      <td>1</td>\n",
       "      <td>0</td>\n",
       "      <td>0</td>\n",
       "      <td>0</td>\n",
       "      <td>0</td>\n",
       "      <td>0</td>\n",
       "      <td>0</td>\n",
       "      <td>0</td>\n",
       "    </tr>\n",
       "  </tbody>\n",
       "</table>\n",
       "<p>5 rows × 44 columns</p>\n",
       "</div>"
      ],
      "text/plain": [
       "      Sex                       Race  Age_at_diagnosis       Histology  Stage  \\\n",
       "0  Female                        NaN                65  adenocarcinoma    4.0   \n",
       "1    Male                      White                85  adenocarcinoma    4.0   \n",
       "2    Male                      Asian                61  adenocarcinoma    4.0   \n",
       "3  Female  Black or African American                66           other    4.0   \n",
       "4    Male                        NaN                63  adenocarcinoma    4.0   \n",
       "\n",
       "      Smoking Immunotherapy_Class  TKI+ PD_L1_Range  Time_to_irAE  ...  \\\n",
       "0  non-smoker           anti-pd-1     0         NaN           NaN  ...   \n",
       "1      smoker          anti-pd-l1     0         NaN           1.0  ...   \n",
       "2      smoker           anti-pd-1     0       >=50%          62.0  ...   \n",
       "3      smoker          anti-pd-l1     0       1-49%           NaN  ...   \n",
       "4      smoker           anti-pd-1     0       >=50%         167.0  ...   \n",
       "\n",
       "  irAE_early irAE_late  irAE_category_IRAE  EGFR  KRAS  ALK  ROS1  BRAF MET  \\\n",
       "0          0         0                   0     0     0    0     0     0   0   \n",
       "1          1         0                   1     0     1    0     0     0   0   \n",
       "2          1         0                   1     0     1    0     0     0   0   \n",
       "3          0         0                   0     0     0    1     0     0   0   \n",
       "4          0         1                   1     0     0    0     0     0   0   \n",
       "\n",
       "   RET  \n",
       "0    0  \n",
       "1    0  \n",
       "2    0  \n",
       "3    0  \n",
       "4    0  \n",
       "\n",
       "[5 rows x 44 columns]"
      ]
     },
     "execution_count": 6,
     "metadata": {},
     "output_type": "execute_result"
    }
   ],
   "source": [
    "input_data.head()"
   ]
  },
  {
   "cell_type": "code",
   "execution_count": 7,
   "metadata": {
    "collapsed": false,
    "jupyter": {
     "outputs_hidden": false
    },
    "pycharm": {
     "name": "#%%\n"
    }
   },
   "outputs": [],
   "source": [
    "# drop unused features\n",
    "drop_list = ['Sex', 'Race', 'Histology', 'Smoking', 'Immunotherapy_Class', 'TKI+', 'PD_L1_Range',\n",
    "             'irAE_EarlyLate', 'irAE_category', 'PD_L1_Range_Positive', 'irAE_late',\n",
    "             'EGFR', 'KRAS', 'ALK', 'ROS1', 'BRAF', 'MET', 'RET']\n",
    "input_data.drop(columns=drop_list, inplace=True)"
   ]
  },
  {
   "cell_type": "code",
   "execution_count": 8,
   "metadata": {
    "collapsed": false,
    "jupyter": {
     "outputs_hidden": false
    },
    "pycharm": {
     "name": "#%%\n"
    }
   },
   "outputs": [
    {
     "data": {
      "text/html": [
       "<div>\n",
       "<style scoped>\n",
       "    .dataframe tbody tr th:only-of-type {\n",
       "        vertical-align: middle;\n",
       "    }\n",
       "\n",
       "    .dataframe tbody tr th {\n",
       "        vertical-align: top;\n",
       "    }\n",
       "\n",
       "    .dataframe thead th {\n",
       "        text-align: right;\n",
       "    }\n",
       "</style>\n",
       "<table border=\"1\" class=\"dataframe\">\n",
       "  <thead>\n",
       "    <tr style=\"text-align: right;\">\n",
       "      <th></th>\n",
       "      <th>Age_at_diagnosis</th>\n",
       "      <th>Stage</th>\n",
       "      <th>Time_to_irAE</th>\n",
       "      <th>isDeceased</th>\n",
       "      <th>os_days</th>\n",
       "      <th>os_1yr_isDeceased</th>\n",
       "      <th>isProgressed</th>\n",
       "      <th>pfs_days</th>\n",
       "      <th>pfs_6months_isProgressed</th>\n",
       "      <th>label</th>\n",
       "      <th>...</th>\n",
       "      <th>Histology_squamous</th>\n",
       "      <th>Smoker+</th>\n",
       "      <th>ImClass_anti-pd-l1</th>\n",
       "      <th>ImClass_anti-pd-1</th>\n",
       "      <th>PD_L1_Range_&gt;=50%</th>\n",
       "      <th>PD_L1_Range_1-49%</th>\n",
       "      <th>PD_L1_Range_Negative</th>\n",
       "      <th>irAE+</th>\n",
       "      <th>irAE_early</th>\n",
       "      <th>irAE_category_IRAE</th>\n",
       "    </tr>\n",
       "  </thead>\n",
       "  <tbody>\n",
       "    <tr>\n",
       "      <th>0</th>\n",
       "      <td>65</td>\n",
       "      <td>4.0</td>\n",
       "      <td>NaN</td>\n",
       "      <td>1</td>\n",
       "      <td>42</td>\n",
       "      <td>1</td>\n",
       "      <td>1</td>\n",
       "      <td>42.0</td>\n",
       "      <td>1</td>\n",
       "      <td>train</td>\n",
       "      <td>...</td>\n",
       "      <td>0</td>\n",
       "      <td>0</td>\n",
       "      <td>0</td>\n",
       "      <td>1</td>\n",
       "      <td>0</td>\n",
       "      <td>0</td>\n",
       "      <td>0</td>\n",
       "      <td>0</td>\n",
       "      <td>0</td>\n",
       "      <td>0</td>\n",
       "    </tr>\n",
       "    <tr>\n",
       "      <th>1</th>\n",
       "      <td>85</td>\n",
       "      <td>4.0</td>\n",
       "      <td>1.0</td>\n",
       "      <td>1</td>\n",
       "      <td>231</td>\n",
       "      <td>1</td>\n",
       "      <td>1</td>\n",
       "      <td>97.0</td>\n",
       "      <td>1</td>\n",
       "      <td>train</td>\n",
       "      <td>...</td>\n",
       "      <td>0</td>\n",
       "      <td>1</td>\n",
       "      <td>1</td>\n",
       "      <td>0</td>\n",
       "      <td>0</td>\n",
       "      <td>0</td>\n",
       "      <td>0</td>\n",
       "      <td>1</td>\n",
       "      <td>1</td>\n",
       "      <td>1</td>\n",
       "    </tr>\n",
       "    <tr>\n",
       "      <th>2</th>\n",
       "      <td>61</td>\n",
       "      <td>4.0</td>\n",
       "      <td>62.0</td>\n",
       "      <td>1</td>\n",
       "      <td>642</td>\n",
       "      <td>0</td>\n",
       "      <td>1</td>\n",
       "      <td>168.0</td>\n",
       "      <td>1</td>\n",
       "      <td>train</td>\n",
       "      <td>...</td>\n",
       "      <td>0</td>\n",
       "      <td>1</td>\n",
       "      <td>0</td>\n",
       "      <td>1</td>\n",
       "      <td>1</td>\n",
       "      <td>0</td>\n",
       "      <td>0</td>\n",
       "      <td>1</td>\n",
       "      <td>1</td>\n",
       "      <td>1</td>\n",
       "    </tr>\n",
       "    <tr>\n",
       "      <th>3</th>\n",
       "      <td>66</td>\n",
       "      <td>4.0</td>\n",
       "      <td>NaN</td>\n",
       "      <td>0</td>\n",
       "      <td>91</td>\n",
       "      <td>1</td>\n",
       "      <td>1</td>\n",
       "      <td>88.0</td>\n",
       "      <td>1</td>\n",
       "      <td>train</td>\n",
       "      <td>...</td>\n",
       "      <td>0</td>\n",
       "      <td>1</td>\n",
       "      <td>1</td>\n",
       "      <td>0</td>\n",
       "      <td>0</td>\n",
       "      <td>1</td>\n",
       "      <td>0</td>\n",
       "      <td>0</td>\n",
       "      <td>0</td>\n",
       "      <td>0</td>\n",
       "    </tr>\n",
       "    <tr>\n",
       "      <th>4</th>\n",
       "      <td>63</td>\n",
       "      <td>4.0</td>\n",
       "      <td>167.0</td>\n",
       "      <td>1</td>\n",
       "      <td>328</td>\n",
       "      <td>1</td>\n",
       "      <td>1</td>\n",
       "      <td>328.0</td>\n",
       "      <td>0</td>\n",
       "      <td>train</td>\n",
       "      <td>...</td>\n",
       "      <td>0</td>\n",
       "      <td>1</td>\n",
       "      <td>0</td>\n",
       "      <td>1</td>\n",
       "      <td>1</td>\n",
       "      <td>0</td>\n",
       "      <td>0</td>\n",
       "      <td>1</td>\n",
       "      <td>0</td>\n",
       "      <td>1</td>\n",
       "    </tr>\n",
       "  </tbody>\n",
       "</table>\n",
       "<p>5 rows × 26 columns</p>\n",
       "</div>"
      ],
      "text/plain": [
       "   Age_at_diagnosis  Stage  Time_to_irAE  isDeceased  os_days  \\\n",
       "0                65    4.0           NaN           1       42   \n",
       "1                85    4.0           1.0           1      231   \n",
       "2                61    4.0          62.0           1      642   \n",
       "3                66    4.0           NaN           0       91   \n",
       "4                63    4.0         167.0           1      328   \n",
       "\n",
       "   os_1yr_isDeceased  isProgressed  pfs_days  pfs_6months_isProgressed  label  \\\n",
       "0                  1             1      42.0                         1  train   \n",
       "1                  1             1      97.0                         1  train   \n",
       "2                  0             1     168.0                         1  train   \n",
       "3                  1             1      88.0                         1  train   \n",
       "4                  1             1     328.0                         0  train   \n",
       "\n",
       "   ...  Histology_squamous  Smoker+  ImClass_anti-pd-l1  ImClass_anti-pd-1  \\\n",
       "0  ...                   0        0                   0                  1   \n",
       "1  ...                   0        1                   1                  0   \n",
       "2  ...                   0        1                   0                  1   \n",
       "3  ...                   0        1                   1                  0   \n",
       "4  ...                   0        1                   0                  1   \n",
       "\n",
       "   PD_L1_Range_>=50%  PD_L1_Range_1-49%  PD_L1_Range_Negative  irAE+  \\\n",
       "0                  0                  0                     0      0   \n",
       "1                  0                  0                     0      1   \n",
       "2                  1                  0                     0      1   \n",
       "3                  0                  1                     0      0   \n",
       "4                  1                  0                     0      1   \n",
       "\n",
       "   irAE_early  irAE_category_IRAE  \n",
       "0           0                   0  \n",
       "1           1                   1  \n",
       "2           1                   1  \n",
       "3           0                   0  \n",
       "4           0                   1  \n",
       "\n",
       "[5 rows x 26 columns]"
      ]
     },
     "execution_count": 8,
     "metadata": {},
     "output_type": "execute_result"
    }
   ],
   "source": [
    "# check input data again\n",
    "input_data.head()"
   ]
  },
  {
   "cell_type": "markdown",
   "metadata": {
    "pycharm": {
     "name": "#%% md\n"
    }
   },
   "source": [
    "# Filter irAE-related features\n",
    "For predicting OS after 1 year or PFS after 6 months, it does not make sense to utilize irAE-related information if irAE occurred after 1 year (for os) or 6 months (for pfs)"
   ]
  },
  {
   "cell_type": "code",
   "execution_count": 9,
   "metadata": {
    "collapsed": false,
    "jupyter": {
     "outputs_hidden": false
    },
    "pycharm": {
     "name": "#%%\n"
    }
   },
   "outputs": [],
   "source": [
    "# if time to irae > 6 months , then irae-related variables should be set to 0\n",
    "time_threshold = 180\n",
    "\n",
    "input_data.loc[input_data['Time_to_irAE']>time_threshold, 'irAE+'] = 0\n",
    "input_data.loc[input_data['Time_to_irAE']>time_threshold, 'irAE_early'] = 0\n",
    "input_data.loc[input_data['Time_to_irAE']>time_threshold, 'irAE_category_IRAE'] = 0\n",
    "\n",
    "input_data.drop(columns='Time_to_irAE', inplace=True)"
   ]
  },
  {
   "cell_type": "markdown",
   "metadata": {
    "pycharm": {
     "name": "#%% md\n"
    }
   },
   "source": [
    "# Prepare Training, Validation, and Testing Data\n",
    "Among the 354 patients, 283 (80%) patients were used as training data and 71 (20%) patients were used as testing data\n",
    "10-fold cross-validation was applied to the training data for tuning hyperparameters"
   ]
  },
  {
   "cell_type": "code",
   "execution_count": 10,
   "metadata": {
    "collapsed": false,
    "jupyter": {
     "outputs_hidden": false
    },
    "pycharm": {
     "name": "#%%\n"
    }
   },
   "outputs": [],
   "source": [
    "# setting up X and y for training\n",
    "y = input_data[['isProgressed', 'pfs_days', 'pfs_6months_isProgressed']].copy()\n",
    "\n",
    "# convert deceased to survived\n",
    "y['surv_getThres'] = 1 - y['pfs_6months_isProgressed']\n",
    "y.drop(columns=[\"pfs_6months_isProgressed\"], inplace=True)\n",
    "\n",
    "# convert os_days to months\n",
    "y['pfs_days'] = round(y['pfs_days'] / 30.0)\n",
    "y['pfs_days'] = y['pfs_days'].fillna(0)\n",
    "y.rename(columns={\"pfs_days\": \"surv_months\"}, inplace=True)\n",
    "\n",
    "# define isDeceased as surv_event\n",
    "y.rename(columns={\"isProgressed\": \"surv_event\"}, inplace=True)\n",
    "\n",
    "# extract label\n",
    "data_label = input_data['label'].copy()\n",
    "\n",
    "# drop unused features\n",
    "X = input_data.drop(columns=['os_1yr_isDeceased', 'pfs_6months_isProgressed', 'os_days', 'pfs_days', 'isDeceased', 'isProgressed', 'label'], axis=1)\n",
    "X = X.fillna(0)\n",
    "\n",
    "# assign training (80%) and testing (20%) data\n",
    "X_full_train, y_full_train = X.loc[data_label=='train', :], y.loc[data_label=='train', :]\n",
    "X_test, y_test = X.loc[data_label=='test', :], y.loc[data_label=='test', :]"
   ]
  },
  {
   "cell_type": "code",
   "execution_count": 11,
   "metadata": {
    "collapsed": false,
    "jupyter": {
     "outputs_hidden": false
    },
    "pycharm": {
     "name": "#%%\n"
    }
   },
   "outputs": [
    {
     "data": {
      "text/html": [
       "<div>\n",
       "<style scoped>\n",
       "    .dataframe tbody tr th:only-of-type {\n",
       "        vertical-align: middle;\n",
       "    }\n",
       "\n",
       "    .dataframe tbody tr th {\n",
       "        vertical-align: top;\n",
       "    }\n",
       "\n",
       "    .dataframe thead th {\n",
       "        text-align: right;\n",
       "    }\n",
       "</style>\n",
       "<table border=\"1\" class=\"dataframe\">\n",
       "  <thead>\n",
       "    <tr style=\"text-align: right;\">\n",
       "      <th></th>\n",
       "      <th>Age_at_diagnosis</th>\n",
       "      <th>Stage</th>\n",
       "      <th>Prior_TKI+</th>\n",
       "      <th>Sex_Male</th>\n",
       "      <th>Race_White</th>\n",
       "      <th>Race_Asian</th>\n",
       "      <th>Race_Black</th>\n",
       "      <th>Histology_adenocarcinoma</th>\n",
       "      <th>Histology_squamous</th>\n",
       "      <th>Smoker+</th>\n",
       "      <th>ImClass_anti-pd-l1</th>\n",
       "      <th>ImClass_anti-pd-1</th>\n",
       "      <th>PD_L1_Range_&gt;=50%</th>\n",
       "      <th>PD_L1_Range_1-49%</th>\n",
       "      <th>PD_L1_Range_Negative</th>\n",
       "      <th>irAE+</th>\n",
       "      <th>irAE_early</th>\n",
       "      <th>irAE_category_IRAE</th>\n",
       "    </tr>\n",
       "  </thead>\n",
       "  <tbody>\n",
       "    <tr>\n",
       "      <th>0</th>\n",
       "      <td>65</td>\n",
       "      <td>4.0</td>\n",
       "      <td>0</td>\n",
       "      <td>0</td>\n",
       "      <td>0</td>\n",
       "      <td>0</td>\n",
       "      <td>0</td>\n",
       "      <td>1</td>\n",
       "      <td>0</td>\n",
       "      <td>0</td>\n",
       "      <td>0</td>\n",
       "      <td>1</td>\n",
       "      <td>0</td>\n",
       "      <td>0</td>\n",
       "      <td>0</td>\n",
       "      <td>0</td>\n",
       "      <td>0</td>\n",
       "      <td>0</td>\n",
       "    </tr>\n",
       "    <tr>\n",
       "      <th>1</th>\n",
       "      <td>85</td>\n",
       "      <td>4.0</td>\n",
       "      <td>0</td>\n",
       "      <td>1</td>\n",
       "      <td>1</td>\n",
       "      <td>0</td>\n",
       "      <td>0</td>\n",
       "      <td>1</td>\n",
       "      <td>0</td>\n",
       "      <td>1</td>\n",
       "      <td>1</td>\n",
       "      <td>0</td>\n",
       "      <td>0</td>\n",
       "      <td>0</td>\n",
       "      <td>0</td>\n",
       "      <td>1</td>\n",
       "      <td>1</td>\n",
       "      <td>1</td>\n",
       "    </tr>\n",
       "    <tr>\n",
       "      <th>2</th>\n",
       "      <td>61</td>\n",
       "      <td>4.0</td>\n",
       "      <td>0</td>\n",
       "      <td>1</td>\n",
       "      <td>0</td>\n",
       "      <td>1</td>\n",
       "      <td>0</td>\n",
       "      <td>1</td>\n",
       "      <td>0</td>\n",
       "      <td>1</td>\n",
       "      <td>0</td>\n",
       "      <td>1</td>\n",
       "      <td>1</td>\n",
       "      <td>0</td>\n",
       "      <td>0</td>\n",
       "      <td>1</td>\n",
       "      <td>1</td>\n",
       "      <td>1</td>\n",
       "    </tr>\n",
       "    <tr>\n",
       "      <th>3</th>\n",
       "      <td>66</td>\n",
       "      <td>4.0</td>\n",
       "      <td>0</td>\n",
       "      <td>0</td>\n",
       "      <td>0</td>\n",
       "      <td>0</td>\n",
       "      <td>1</td>\n",
       "      <td>0</td>\n",
       "      <td>0</td>\n",
       "      <td>1</td>\n",
       "      <td>1</td>\n",
       "      <td>0</td>\n",
       "      <td>0</td>\n",
       "      <td>1</td>\n",
       "      <td>0</td>\n",
       "      <td>0</td>\n",
       "      <td>0</td>\n",
       "      <td>0</td>\n",
       "    </tr>\n",
       "    <tr>\n",
       "      <th>4</th>\n",
       "      <td>63</td>\n",
       "      <td>4.0</td>\n",
       "      <td>0</td>\n",
       "      <td>1</td>\n",
       "      <td>0</td>\n",
       "      <td>0</td>\n",
       "      <td>0</td>\n",
       "      <td>1</td>\n",
       "      <td>0</td>\n",
       "      <td>1</td>\n",
       "      <td>0</td>\n",
       "      <td>1</td>\n",
       "      <td>1</td>\n",
       "      <td>0</td>\n",
       "      <td>0</td>\n",
       "      <td>1</td>\n",
       "      <td>0</td>\n",
       "      <td>1</td>\n",
       "    </tr>\n",
       "  </tbody>\n",
       "</table>\n",
       "</div>"
      ],
      "text/plain": [
       "   Age_at_diagnosis  Stage  Prior_TKI+  Sex_Male  Race_White  Race_Asian  \\\n",
       "0                65    4.0           0         0           0           0   \n",
       "1                85    4.0           0         1           1           0   \n",
       "2                61    4.0           0         1           0           1   \n",
       "3                66    4.0           0         0           0           0   \n",
       "4                63    4.0           0         1           0           0   \n",
       "\n",
       "   Race_Black  Histology_adenocarcinoma  Histology_squamous  Smoker+  \\\n",
       "0           0                         1                   0        0   \n",
       "1           0                         1                   0        1   \n",
       "2           0                         1                   0        1   \n",
       "3           1                         0                   0        1   \n",
       "4           0                         1                   0        1   \n",
       "\n",
       "   ImClass_anti-pd-l1  ImClass_anti-pd-1  PD_L1_Range_>=50%  \\\n",
       "0                   0                  1                  0   \n",
       "1                   1                  0                  0   \n",
       "2                   0                  1                  1   \n",
       "3                   1                  0                  0   \n",
       "4                   0                  1                  1   \n",
       "\n",
       "   PD_L1_Range_1-49%  PD_L1_Range_Negative  irAE+  irAE_early  \\\n",
       "0                  0                     0      0           0   \n",
       "1                  0                     0      1           1   \n",
       "2                  0                     0      1           1   \n",
       "3                  1                     0      0           0   \n",
       "4                  0                     0      1           0   \n",
       "\n",
       "   irAE_category_IRAE  \n",
       "0                   0  \n",
       "1                   1  \n",
       "2                   1  \n",
       "3                   0  \n",
       "4                   1  "
      ]
     },
     "execution_count": 11,
     "metadata": {},
     "output_type": "execute_result"
    }
   ],
   "source": [
    "X_full_train.head()"
   ]
  },
  {
   "cell_type": "code",
   "execution_count": 12,
   "metadata": {
    "collapsed": false,
    "jupyter": {
     "outputs_hidden": false
    },
    "pycharm": {
     "name": "#%%\n"
    }
   },
   "outputs": [
    {
     "data": {
      "text/html": [
       "<div>\n",
       "<style scoped>\n",
       "    .dataframe tbody tr th:only-of-type {\n",
       "        vertical-align: middle;\n",
       "    }\n",
       "\n",
       "    .dataframe tbody tr th {\n",
       "        vertical-align: top;\n",
       "    }\n",
       "\n",
       "    .dataframe thead th {\n",
       "        text-align: right;\n",
       "    }\n",
       "</style>\n",
       "<table border=\"1\" class=\"dataframe\">\n",
       "  <thead>\n",
       "    <tr style=\"text-align: right;\">\n",
       "      <th></th>\n",
       "      <th>surv_event</th>\n",
       "      <th>surv_months</th>\n",
       "      <th>surv_getThres</th>\n",
       "    </tr>\n",
       "  </thead>\n",
       "  <tbody>\n",
       "    <tr>\n",
       "      <th>0</th>\n",
       "      <td>1</td>\n",
       "      <td>1.0</td>\n",
       "      <td>0</td>\n",
       "    </tr>\n",
       "    <tr>\n",
       "      <th>1</th>\n",
       "      <td>1</td>\n",
       "      <td>3.0</td>\n",
       "      <td>0</td>\n",
       "    </tr>\n",
       "    <tr>\n",
       "      <th>2</th>\n",
       "      <td>1</td>\n",
       "      <td>6.0</td>\n",
       "      <td>0</td>\n",
       "    </tr>\n",
       "    <tr>\n",
       "      <th>3</th>\n",
       "      <td>1</td>\n",
       "      <td>3.0</td>\n",
       "      <td>0</td>\n",
       "    </tr>\n",
       "    <tr>\n",
       "      <th>4</th>\n",
       "      <td>1</td>\n",
       "      <td>11.0</td>\n",
       "      <td>1</td>\n",
       "    </tr>\n",
       "  </tbody>\n",
       "</table>\n",
       "</div>"
      ],
      "text/plain": [
       "   surv_event  surv_months  surv_getThres\n",
       "0           1          1.0              0\n",
       "1           1          3.0              0\n",
       "2           1          6.0              0\n",
       "3           1          3.0              0\n",
       "4           1         11.0              1"
      ]
     },
     "execution_count": 12,
     "metadata": {},
     "output_type": "execute_result"
    }
   ],
   "source": [
    "y_full_train.head()"
   ]
  },
  {
   "cell_type": "code",
   "execution_count": 13,
   "metadata": {
    "collapsed": false,
    "jupyter": {
     "outputs_hidden": false
    },
    "pycharm": {
     "name": "#%%\n"
    }
   },
   "outputs": [],
   "source": [
    "def latex_p(p):\n",
    "    if p < 0.001:\n",
    "        output = str('(p<$\\mathregular{10^{%1.0f}}$)' % (0.5 + np.log10(p)))\n",
    "    elif p < 0.01:\n",
    "        output = str('(p<0.01)')\n",
    "    elif p < 0.05:\n",
    "        output = str('(p<0.05)')\n",
    "    else:\n",
    "        output = str('(p=%0.2f)' % p)\n",
    "    return output"
   ]
  },
  {
   "cell_type": "markdown",
   "metadata": {
    "pycharm": {
     "name": "#%% md\n"
    }
   },
   "source": [
    "# Logistic Regression without Regularization"
   ]
  },
  {
   "cell_type": "code",
   "execution_count": 14,
   "metadata": {
    "collapsed": false,
    "jupyter": {
     "outputs_hidden": false
    },
    "pycharm": {
     "name": "#%%\n"
    }
   },
   "outputs": [
    {
     "data": {
      "text/plain": [
       "LogisticRegression(penalty='none')"
      ]
     },
     "execution_count": 14,
     "metadata": {},
     "output_type": "execute_result"
    }
   ],
   "source": [
    "#train\n",
    "lr_estimator = LogisticRegression(penalty='none')\n",
    "lr_estimator.fit(X_full_train, y_full_train['surv_getThres'])"
   ]
  },
  {
   "cell_type": "code",
   "execution_count": 15,
   "metadata": {
    "collapsed": false,
    "jupyter": {
     "outputs_hidden": false
    },
    "pycharm": {
     "name": "#%%\n"
    }
   },
   "outputs": [
    {
     "name": "stdout",
     "output_type": "stream",
     "text": [
      "ROC AUC for simple logistic regression is 0.6402\n"
     ]
    }
   ],
   "source": [
    "# prediction\n",
    "lr_prediction = lr_estimator.predict_proba(X_test)[:, 1].tolist()\n",
    "\n",
    "# compute tpr, fpr, and auc\n",
    "lr_fpr, lr_tpr, _ = roc_curve(y_test['surv_getThres'], np.array(lr_prediction))\n",
    "lr_roc_auc = auc(lr_fpr, lr_tpr)\n",
    "print('ROC AUC for simple logistic regression is ' + str(round(lr_roc_auc, 4)))"
   ]
  },
  {
   "cell_type": "markdown",
   "metadata": {
    "pycharm": {
     "name": "#%% md\n"
    }
   },
   "source": [
    "# Logistic Regression with Elastic Net Regularization"
   ]
  },
  {
   "cell_type": "code",
   "execution_count": 42,
   "metadata": {
    "collapsed": false,
    "jupyter": {
     "outputs_hidden": false
    },
    "pycharm": {
     "name": "#%%\n"
    }
   },
   "outputs": [
    {
     "data": {
      "text/plain": [
       "{'lr__C': 1.0031951926975056,\n",
       " 'lr__class_weight': 'balanced',\n",
       " 'lr__fit_intercept': False,\n",
       " 'lr__l1_ratio': 0.22649127794102164}"
      ]
     },
     "execution_count": 42,
     "metadata": {},
     "output_type": "execute_result"
    }
   ],
   "source": [
    "std_scaler = StandardScaler()\n",
    "elr = LogisticRegression(penalty='elasticnet', random_state=params['seed'], solver='saga', max_iter=10000)\n",
    "elr_pipe = Pipeline(steps=[('std_scaler', std_scaler), ('lr', elr)])\n",
    "\n",
    "# setup CV parameter space\n",
    "elr_cv_params = {'lr__fit_intercept': [True, False], 'lr__class_weight': ['None', 'balanced'],\n",
    "                 'lr__l1_ratio': sp_uniform(0, 1), 'lr__C': sp_uniform(10 ** -1, 10 ** 3 - 10 ** -1)}\n",
    "\n",
    "# run randomized search CV\n",
    "elr_estimator_search = RandomizedSearchCV(elr_pipe,\n",
    "                                          param_distributions=elr_cv_params,\n",
    "                                          scoring=params['eval_metric'],\n",
    "                                          n_iter=1000,\n",
    "                                          cv=params['cv_fold'],\n",
    "                                          random_state=params['seed'],\n",
    "                                          n_jobs=-1,\n",
    "                                          verbose=0)\n",
    "\n",
    "elr_estimator_search.fit(X_full_train, y_full_train['surv_getThres'])\n",
    "elr_estimator = elr_estimator_search.best_estimator_\n",
    "\n",
    "elr_estimator_search.best_params_"
   ]
  },
  {
   "cell_type": "code",
   "execution_count": 44,
   "metadata": {
    "collapsed": false,
    "jupyter": {
     "outputs_hidden": false
    },
    "pycharm": {
     "name": "#%%\n"
    }
   },
   "outputs": [
    {
     "name": "stdout",
     "output_type": "stream",
     "text": [
      "ROC AUC for elasticnet logistic regression is 0.6479\n"
     ]
    }
   ],
   "source": [
    "# train on best estimator\n",
    "elr_estimator.fit(X_full_train, y_full_train['surv_getThres'])\n",
    "\n",
    "# prediction\n",
    "elr_prediction = elr_estimator.predict_proba(X_test)[:, 1].tolist()\n",
    "\n",
    "# compute tpr, fpr, and auc\n",
    "elr_fpr, elr_tpr, _ = roc_curve(y_test['surv_getThres'], np.array(elr_prediction))\n",
    "elr_roc_auc = auc(elr_fpr, elr_tpr)\n",
    "print('ROC AUC for elasticnet logistic regression is ' + str(round(elr_roc_auc, 4)))"
   ]
  },
  {
   "cell_type": "markdown",
   "metadata": {
    "pycharm": {
     "name": "#%% md\n"
    }
   },
   "source": [
    "# XGBoost"
   ]
  },
  {
   "cell_type": "code",
   "execution_count": 47,
   "metadata": {
    "collapsed": false,
    "jupyter": {
     "outputs_hidden": false
    },
    "pycharm": {
     "name": "#%%\n"
    }
   },
   "outputs": [
    {
     "data": {
      "text/plain": [
       "{'n_estimators': 100,\n",
       " 'min_child_weight': 7,\n",
       " 'max_depth': 8,\n",
       " 'learning_rate': 0.3,\n",
       " 'gamma': 0.2,\n",
       " 'colsample_bytree': 0.4}"
      ]
     },
     "execution_count": 47,
     "metadata": {},
     "output_type": "execute_result"
    }
   ],
   "source": [
    "# setup CV parameter space\n",
    "xgb_cv_params = {'learning_rate': [0.01, 0.05, 0.10, 0.15, 0.20, 0.25, 0.30],\n",
    "                 'max_depth': [3, 4, 5, 6, 8, 10, 12, 15],\n",
    "                 'min_child_weight': [1, 3, 5, 7],\n",
    "                 'gamma': [0.1, 0.2, 0.3, 0.4],\n",
    "                 'colsample_bytree': [0.3, 0.4, 0.5 , 0.7],\n",
    "                 'n_estimators': [100, 300, 500]}\n",
    "\n",
    "# setup initial parameters\n",
    "xgb_init_params = {'n_estimators': 173, 'random_state': params['seed'], 'learning_rate': .1,\n",
    "                   'reg_alpha': 1, 'reg_lambda': 1, 'eval_metric': 'logloss'}\n",
    "\n",
    "# run randomized search CV\n",
    "xgb_estimator_search = RandomizedSearchCV(xgb.XGBClassifier(**xgb_init_params),\n",
    "                                          param_distributions=xgb_cv_params,\n",
    "                                          n_iter=500,\n",
    "                                          scoring=params['eval_metric'],\n",
    "                                          cv=params['cv_fold'],\n",
    "                                          random_state=params['seed'],\n",
    "                                          verbose=0)\n",
    "\n",
    "xgb_estimator_search.fit(X_full_train, y_full_train['surv_getThres'])\n",
    "xgb_estimator = xgb_estimator_search.best_estimator_\n",
    "\n",
    "xgb_estimator_search.best_params_"
   ]
  },
  {
   "cell_type": "code",
   "execution_count": 48,
   "metadata": {
    "collapsed": false,
    "jupyter": {
     "outputs_hidden": false
    },
    "pycharm": {
     "name": "#%%\n"
    }
   },
   "outputs": [
    {
     "name": "stdout",
     "output_type": "stream",
     "text": [
      "ROC AUC for XGBoost is 0.6513\n"
     ]
    }
   ],
   "source": [
    "# train on best estimator\n",
    "xgb_estimator.fit(X_full_train, y_full_train['surv_getThres'])\n",
    "\n",
    "# prediction\n",
    "xgb_prediction = xgb_estimator.predict_proba(X_test)[:, 1].tolist()\n",
    "\n",
    "# compute tpr, fpr, and auc\n",
    "xgb_fpr, xgb_tpr, _ = roc_curve(y_test['surv_getThres'], np.array(xgb_prediction))\n",
    "xgb_roc_auc = auc(xgb_fpr, xgb_tpr)\n",
    "print('ROC AUC for XGBoost is ' + str(round(xgb_roc_auc, 4)))"
   ]
  },
  {
   "cell_type": "markdown",
   "metadata": {
    "pycharm": {
     "name": "#%% md\n"
    }
   },
   "source": [
    "# Light GBM"
   ]
  },
  {
   "cell_type": "code",
   "execution_count": 50,
   "metadata": {
    "collapsed": false,
    "jupyter": {
     "outputs_hidden": false
    },
    "pycharm": {
     "name": "#%%\n"
    }
   },
   "outputs": [
    {
     "data": {
      "text/plain": [
       "{'n_estimators': 100,\n",
       " 'min_child_weight': 5,\n",
       " 'max_depth': 8,\n",
       " 'learning_rate': 0.2,\n",
       " 'colsample_bytree': 0.3}"
      ]
     },
     "execution_count": 50,
     "metadata": {},
     "output_type": "execute_result"
    }
   ],
   "source": [
    "# setup CV parameter space\n",
    "lgbm_cv_params = {'learning_rate': [0.01, 0.05, 0.10, 0.15, 0.20, 0.25, 0.30],\n",
    "                  'max_depth': [3, 4, 5, 6, 8, 10, 12, 15],\n",
    "                  'min_child_weight': [1, 3, 5, 7],\n",
    "                  'colsample_bytree': [0.3, 0.4, 0.5 , 0.7],\n",
    "                  'n_estimators': [100, 300, 500]}\n",
    "\n",
    "# setup initial parameters\n",
    "lgbm_init_params = {'n_estimators': 173, 'random_state': params['seed'], 'learning_rate': .1, 'reg_alpha': 1, 'reg_lambda': 1}\n",
    "\n",
    "# run randomized search CV\n",
    "lgbm_estimator_search = RandomizedSearchCV(lgb.LGBMClassifier(**lgbm_init_params),\n",
    "                                           param_distributions=lgbm_cv_params,\n",
    "                                           n_iter=500,\n",
    "                                           scoring=params['eval_metric'],\n",
    "                                           cv=params['cv_fold'],\n",
    "                                           random_state=params['seed'],\n",
    "                                           verbose=0)\n",
    "\n",
    "lgbm_estimator_search.fit(X_full_train, y_full_train['surv_getThres'])\n",
    "lgbm_estimator = lgbm_estimator_search.best_estimator_\n",
    "\n",
    "lgbm_estimator_search.best_params_"
   ]
  },
  {
   "cell_type": "code",
   "execution_count": 51,
   "metadata": {
    "collapsed": false,
    "jupyter": {
     "outputs_hidden": false
    },
    "pycharm": {
     "name": "#%%\n"
    }
   },
   "outputs": [
    {
     "name": "stdout",
     "output_type": "stream",
     "text": [
      "ROC AUC for LightGBM is 0.635\n"
     ]
    }
   ],
   "source": [
    "# train on best estimator\n",
    "lgbm_estimator.fit(X_full_train, y_full_train['surv_getThres'])\n",
    "\n",
    "# prediction\n",
    "lgbm_prediction = lgbm_estimator.predict_proba(X_test)[:, 1].tolist()\n",
    "\n",
    "# compute tpr, fpr, and auc\n",
    "lgbm_fpr, lgbm_tpr, _ = roc_curve(y_test['surv_getThres'], np.array(lgbm_prediction))\n",
    "lgbm_roc_auc = auc(lgbm_fpr, lgbm_tpr)\n",
    "print('ROC AUC for LightGBM is ' + str(round(lgbm_roc_auc, 4)))"
   ]
  },
  {
   "cell_type": "markdown",
   "metadata": {
    "pycharm": {
     "name": "#%% md\n"
    }
   },
   "source": [
    "# CatBoost"
   ]
  },
  {
   "cell_type": "code",
   "execution_count": 53,
   "metadata": {
    "collapsed": false,
    "jupyter": {
     "outputs_hidden": false
    },
    "pycharm": {
     "name": "#%%\n"
    }
   },
   "outputs": [
    {
     "data": {
      "text/plain": [
       "{'depth': 5,\n",
       " 'iterations': 70,\n",
       " 'l2_leaf_reg': 17,\n",
       " 'learning_rate': 0.2185314638240841}"
      ]
     },
     "execution_count": 53,
     "metadata": {},
     "output_type": "execute_result"
    }
   ],
   "source": [
    "# setup CV parameter space\n",
    "catb_cv_params = {'depth': sp_randint(3, 7), 'learning_rate': sp_uniform(0.01, 0.9),\n",
    "                  'iterations': sp_randint(10, 100), 'l2_leaf_reg': sp_randint(1, 100)}\n",
    "\n",
    "# run randomized search CV\n",
    "catb_estimator_search = RandomizedSearchCV(CatBoostClassifier(verbose=0, allow_writing_files=False),\n",
    "                                         param_distributions=catb_cv_params,\n",
    "                                         n_iter=500,\n",
    "                                         scoring=params['eval_metric'],\n",
    "                                         cv=params['cv_fold'],\n",
    "                                         random_state=params['seed'],\n",
    "                                         verbose=0)\n",
    "\n",
    "catb_estimator_search.fit(X_full_train, y_full_train['surv_getThres'])\n",
    "catb_estimator = catb_estimator_search.best_estimator_\n",
    "\n",
    "catb_estimator_search.best_params_"
   ]
  },
  {
   "cell_type": "code",
   "execution_count": 54,
   "metadata": {
    "collapsed": false,
    "jupyter": {
     "outputs_hidden": false
    },
    "pycharm": {
     "name": "#%%\n"
    }
   },
   "outputs": [
    {
     "name": "stdout",
     "output_type": "stream",
     "text": [
      "ROC AUC for CatBoost is 0.653\n"
     ]
    }
   ],
   "source": [
    "# train on best estimator\n",
    "catb_estimator.fit(X_full_train, y_full_train['surv_getThres'])\n",
    "\n",
    "# prediction\n",
    "catb_prediction = catb_estimator.predict_proba(X_test)[:, 1].tolist()\n",
    "\n",
    "# compute tpr, fpr, and auc\n",
    "catb_fpr, catb_tpr, _ = roc_curve(y_test['surv_getThres'], np.array(catb_prediction))\n",
    "catb_roc_auc = auc(catb_fpr, catb_tpr)\n",
    "print('ROC AUC for CatBoost is ' + str(round(catb_roc_auc, 4)))"
   ]
  },
  {
   "cell_type": "markdown",
   "metadata": {
    "pycharm": {
     "name": "#%% md\n"
    }
   },
   "source": [
    "# Performance"
   ]
  },
  {
   "cell_type": "code",
   "execution_count": 60,
   "metadata": {
    "collapsed": false,
    "jupyter": {
     "outputs_hidden": false
    },
    "pycharm": {
     "name": "#%%\n"
    }
   },
   "outputs": [
    {
     "name": "stdout",
     "output_type": "stream",
     "text": [
      "ROC AUC: 0.6479\n",
      "PRC AUC: 0.4375\n",
      "F1-score is 0.5937\n",
      "Accuracy is 0.6338\n",
      "C-Index: 0.6479\n",
      "median survival score: 0.5228498786762182\n",
      "IQR for survival score: 0.38881318409908444 to 0.654959384742281\n",
      "median survival for higher score: 5.0\n",
      "median survival for lower score: 2.0\n"
     ]
    }
   ],
   "source": [
    "# select ML model\n",
    "ml_estimator = elr_estimator\n",
    "\n",
    "#make prediction\n",
    "ml_estimator.fit(X_full_train, y_full_train['surv_getThres'])\n",
    "ml_prediction = ml_estimator.predict_proba(X_test)[:, 1].tolist()\n",
    "\n",
    "# Compute tpr and fpr for plotting ROC curve\n",
    "fpr, tpr, _ = roc_curve(y_test['surv_getThres'], np.array(ml_prediction))\n",
    "roc_auc = auc(fpr, tpr)\n",
    "print('ROC AUC: ' + str(round(roc_auc, 4)))\n",
    "\n",
    "# Compute precision and recall for plotting PRC curve\n",
    "precision, recall, _ = precision_recall_curve(y_test['surv_getThres'], np.array(ml_prediction))\n",
    "precision, recall = precision[:-1], recall[:-1]\n",
    "prc_auc = auc(recall, precision)\n",
    "print('PRC AUC: ' + str(round(prc_auc, 4)))\n",
    "\n",
    "# compute F1-score\n",
    "f1 = f1_score(y_test['surv_getThres'], ml_estimator.predict(X_test))\n",
    "print('F1-score is ' + str(round(f1, 4)))\n",
    "\n",
    "# compute accuracy\n",
    "accuracy = ml_estimator.score(X_test, y_test['surv_getThres'])\n",
    "print('Accuracy is ' + str(round(accuracy, 4)))\n",
    "\n",
    "# calculate Concordance index\n",
    "c_index = concordance_index(y_test['surv_getThres'], np.array(ml_prediction))\n",
    "print('C-Index: ' + str(round(c_index, 4)))\n",
    "\n",
    "# Cut the predicted score into two groups and compare survival\n",
    "median_score = np.median(np.array(ml_prediction))\n",
    "print('median survival score: ' + str(median_score))\n",
    "print('IQR for survival score: ' + str(np.percentile(np.array(ml_prediction), 25)) + ' to ' + str(np.percentile(np.array(ml_prediction), 75)))\n",
    "\n",
    "surv_data = pd.concat([y_test.reset_index(drop=True), pd.DataFrame(np.array(ml_prediction), columns=['survival_score'])], axis=1)\n",
    "surv_highscore = surv_data.loc[surv_data['survival_score'] >= median_score]\n",
    "surv_lowscore = surv_data.loc[surv_data['survival_score'] < median_score]\n",
    "print('median survival for higher score: ' + str(np.median(surv_highscore['surv_months'])))\n",
    "print('median survival for lower score: ' + str(np.median(surv_lowscore['surv_months'])))\n",
    "\n",
    "# do a log-rank test on the high and low survival scores\n",
    "surv_logrank = logrank_test(surv_highscore['surv_months'],\n",
    "                            surv_lowscore['surv_months'],\n",
    "                            event_observed_A=surv_highscore['surv_event'],\n",
    "                            event_observed_B=surv_lowscore['surv_event'])"
   ]
  },
  {
   "cell_type": "markdown",
   "metadata": {
    "pycharm": {
     "name": "#%% md\n"
    }
   },
   "source": [
    "# Display ROC & PRC Results"
   ]
  },
  {
   "cell_type": "code",
   "execution_count": 62,
   "metadata": {
    "collapsed": false,
    "jupyter": {
     "outputs_hidden": false
    },
    "pycharm": {
     "name": "#%%\n"
    }
   },
   "outputs": [
    {
     "data": {
      "image/png": "[encoded data removed]",
      "text/plain": [
       "<Figure size 1440x432 with 3 Axes>"
      ]
     },
     "metadata": {
      "needs_background": "light"
     },
     "output_type": "display_data"
    }
   ],
   "source": [
    "# make prediction\n",
    "lr_estimator.fit(X_full_train, y_full_train['surv_getThres'])\n",
    "lr_prediction = lr_estimator.predict_proba(X_test)[:, 1].tolist()\n",
    "\n",
    "ml_estimator.fit(X_full_train, y_full_train['surv_getThres'])\n",
    "ml_prediction = ml_estimator.predict_proba(X_test)[:, 1].tolist()\n",
    "\n",
    "# Compute tpr and fpr for plotting ROC curve\n",
    "lr_fpr, lr_tpr, _ = roc_curve(y_test['surv_getThres'], np.array(lr_prediction), drop_intermediate=False)\n",
    "lr_roc_auc = auc(lr_fpr, lr_tpr)\n",
    "\n",
    "ml_fpr, ml_tpr, _ = roc_curve(y_test['surv_getThres'], np.array(ml_prediction), drop_intermediate=False)\n",
    "ml_roc_auc = auc(ml_fpr, ml_tpr)\n",
    "\n",
    "# Compute precision and recall for plotting PRC curve\n",
    "lr_precision, lr_recall, _ = precision_recall_curve(y_test['surv_getThres'], np.array(lr_prediction))\n",
    "lr_precision, lr_recall = lr_precision[:-1], lr_recall[:-1]\n",
    "lr_prc_auc = auc(lr_recall, lr_precision)\n",
    "\n",
    "ml_precision, ml_recall, _ = precision_recall_curve(y_test['surv_getThres'], np.array(ml_prediction))\n",
    "ml_precision, ml_recall = ml_precision[:-1], ml_recall[:-1]\n",
    "ml_prc_auc = auc(ml_recall, ml_precision)\n",
    "\n",
    "# plot settings\n",
    "fig, (ax1, ax2, ax3) = plt.subplots(1, 3, figsize=(20, 6))\n",
    "lw = 1 # line width\n",
    "\n",
    "# plot ROC curve\n",
    "ax1.plot([0, 1], [0, 1], color='k', lw=lw, linestyle='--') # diagonal line\n",
    "ax1.plot(lr_fpr, lr_tpr, marker='.', lw=lw, label='Logistic Regression (AUC = %0.2f)' % lr_roc_auc)\n",
    "ax1.plot(ml_fpr, ml_tpr, marker='.', lw=lw, label='Elastic Net (AUC = %0.2f)' % ml_roc_auc)\n",
    "ax1.set_xlim([0.0, 1.0])\n",
    "ax1.set_ylim([0.0, 1.0])\n",
    "ax1.xaxis.set_tick_params(labelsize=14)\n",
    "ax1.yaxis.set_tick_params(labelsize=14)\n",
    "ax1.set_xlabel('False Positive Rate', fontsize=18)\n",
    "ax1.set_ylabel('True Positive Rate', fontsize=18)\n",
    "ax1.set_title('ROC Curve', fontsize=18)\n",
    "ax1.legend(loc=\"lower right\", fontsize=12)\n",
    "\n",
    "# plot PRC curve\n",
    "ax2.plot(lr_recall, lr_precision, marker='.', lw=lw, label='Logistic Regression (AUC = %0.2f)' % lr_prc_auc)\n",
    "ax2.plot(ml_recall, ml_precision, marker='.', lw=lw, label='Elastic Net (AUC = %0.2f)' % ml_prc_auc)\n",
    "ax2.set_xlim([0.0, 1.0])\n",
    "ax2.set_ylim([0.0, 1.0])\n",
    "ax2.xaxis.set_tick_params(labelsize=14)\n",
    "ax2.yaxis.set_tick_params(labelsize=14)\n",
    "ax2.set_xlabel('Recall', fontsize=18)\n",
    "ax2.set_ylabel('Precision', fontsize=18)\n",
    "ax2.set_title('PRC Curve', fontsize=18)\n",
    "ax2.legend(loc=\"lower right\", fontsize=12)\n",
    "\n",
    "# plot survival\n",
    "kmf = KaplanMeierFitter()\n",
    "kmf.fit(surv_highscore['surv_months'], surv_highscore['surv_event'], label='High survival score (median = %0.1f)' % np.median(surv_highscore['surv_months']))\n",
    "kmf.plot(ax=ax3, color='r', show_censors=True, censor_styles={'ms': 6}, fontsize=14, ci_show=False)\n",
    "\n",
    "kmf.fit(surv_lowscore['surv_months'], surv_lowscore['surv_event'], label='Low survival score (median = %0.1f)' % np.median(surv_lowscore['surv_months']))\n",
    "kmf.plot(ax=ax3, color='k', show_censors=True, censor_styles={'ms': 6}, fontsize=14, ci_show=False)\n",
    "\n",
    "kmf.fit(surv_data['surv_months'], surv_data['surv_event'], label='All (median = %0.1f)' % np.median(surv_data['surv_months']))\n",
    "kmf.plot(ax=ax3, color='gray', linestyle='--', show_censors=True, censor_styles={'ms': 6}, fontsize=14, ci_show=False)\n",
    "\n",
    "ax3.set_title('K-M plot ' + latex_p(surv_logrank._p_value[0]), fontsize=18)\n",
    "ax3.set_xlabel('Time (month)', fontsize=18)\n",
    "ax3.legend(loc=\"upper right\", fontsize=12)\n",
    "\n",
    "plt.tight_layout()\n",
    "plt.subplots_adjust(wspace=0.25)\n",
    "plt.show()"
   ]
  },
  {
   "cell_type": "markdown",
   "metadata": {
    "pycharm": {
     "name": "#%% md\n"
    }
   },
   "source": [
    "# SHAP Value Analysis"
   ]
  },
  {
   "cell_type": "code",
   "execution_count": 63,
   "metadata": {
    "collapsed": false,
    "jupyter": {
     "outputs_hidden": false
    },
    "pycharm": {
     "name": "#%%\n"
    }
   },
   "outputs": [
    {
     "data": {
      "application/vnd.jupyter.widget-view+json": {
       "model_id": "beb32ce70a7b4cd6a29d730b19fd5bdb",
       "version_major": 2,
       "version_minor": 0
      },
      "text/plain": [
       "  0%|          | 0/71 [00:00<?, ?it/s]"
      ]
     },
     "metadata": {},
     "output_type": "display_data"
    },
    {
     "data": {
      "image/png": "[encoded data removed]",
      "text/plain": [
       "<Figure size 576x626.4 with 1 Axes>"
      ]
     },
     "metadata": {
      "needs_background": "light"
     },
     "output_type": "display_data"
    }
   ],
   "source": [
    "# run shap analysis\n",
    "explainer = shap.KernelExplainer(ml_estimator.predict, X_test)\n",
    "shap_values = explainer.shap_values(X_test)\n",
    "\n",
    "# calculate overall feature importance\n",
    "shap.summary_plot(shap_values, X_test, plot_type='bar')"
   ]
  },
  {
   "cell_type": "code",
   "execution_count": 64,
   "metadata": {
    "collapsed": false,
    "jupyter": {
     "outputs_hidden": false
    },
    "pycharm": {
     "name": "#%%\n"
    }
   },
   "outputs": [
    {
     "data": {
      "image/png": "[encoded data removed]",
      "text/plain": [
       "<Figure size 576x626.4 with 2 Axes>"
      ]
     },
     "metadata": {
      "needs_background": "light"
     },
     "output_type": "display_data"
    }
   ],
   "source": [
    "shap.summary_plot(shap_values, X_test, max_display=min(X_test.shape[1], 20), show=False)\n",
    "plt.gcf().axes[-1].set_aspect(100)\n",
    "plt.gcf().axes[-1].set_box_aspect(100)"
   ]
  }
 ],
 "metadata": {
  "kernelspec": {
   "display_name": "Python 3 (ipykernel)",
   "language": "python",
   "name": "python3"
  },
  "language_info": {
   "codemirror_mode": {
    "name": "ipython",
    "version": 3
   },
   "file_extension": ".py",
   "mimetype": "text/x-python",
   "name": "python",
   "nbconvert_exporter": "python",
   "pygments_lexer": "ipython3",
   "version": "3.10.6"
  }
 },
 "nbformat": 4,
 "nbformat_minor": 4
}
